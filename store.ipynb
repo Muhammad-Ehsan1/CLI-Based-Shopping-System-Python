{
 "cells": [
  {
   "cell_type": "code",
   "execution_count": 1,
   "metadata": {},
   "outputs": [],
   "source": [
    "def shop(shop):\n",
    "    import pandas as pd\n",
    "    print(f'''Avalile Items List Of Store\n",
    "      {shop}\n",
    "      ''')\n",
    "\n",
    "    total = 0\n",
    "    total_quantity = 0\n",
    "    products_purchased = set()\n",
    "    products_purchased_count = 0\n",
    "    purchased_items = []\n",
    "\n",
    "    while True:\n",
    "        item = input(\"Enter product name : \").lower()\n",
    "        if item in shop['products'].values:\n",
    "            index = shop[shop['products'] == item].index[0]   \n",
    "            print(f\"{item} is of RS {shop.loc[index,\"price\"]}\")\n",
    "            quantity = int(input(\"How much do you want : \"))       \n",
    "            if quantity<= shop.loc[index,\"quantity\"]:\n",
    "                total += quantity*shop.loc[index,\"price\"]\n",
    "                total_quantity += quantity\n",
    "\n",
    "                if item not in products_purchased:\n",
    "                    products_purchased_count += 1\n",
    "                    products_purchased.add(item)\n",
    "\n",
    "                purchased_items.append({\n",
    "                    \"Product\": item,\n",
    "                    \"Quantity\": quantity,\n",
    "                    \"Price\": shop.loc[index, \"price\"],\n",
    "                    \"Total Price\": quantity * shop.loc[index, \"price\"]\n",
    "                })\n",
    "                    \n",
    "                if total>=50000:\n",
    "                    discount = total*0.02\n",
    "                elif total>=25000:\n",
    "                    discount = total*0.01\n",
    "                else:\n",
    "                    discount = total*0\n",
    "\n",
    "                shop.loc[index,\"quantity\"]-=quantity\n",
    "\n",
    "                while True:\n",
    "                    more = input(\"Do you need anything more (y/n): \").lower()\n",
    "                    if more in ['y', 'n']:\n",
    "                        break\n",
    "                    else:\n",
    "                        print(\"Invalid input! Please enter only 'y' or 'n'.\")\n",
    "\n",
    "                if more=='y':\n",
    "                    continue\n",
    "                elif more =='n':\n",
    "                    print(f\"\\nThe total amount of {total_quantity} products is {total}\") \n",
    "                    break\n",
    "                \n",
    "            else:\n",
    "                print(\"There are not that many\")\n",
    "        \n",
    "        else:\n",
    "            print(\"Sorry It isn't Avalible\")\n",
    "\n",
    "    print(\"\\n\\t--- Purchased Items Recipt ---\")\n",
    "    if purchased_items:\n",
    "        purchased_df = pd.DataFrame(purchased_items)\n",
    "        print(purchased_df)\n",
    "\n",
    "\n",
    "    print(f'''\n",
    "        ------Shopping Summery------\n",
    "        Total Item purchased {products_purchased_count}\n",
    "        Total Quantity purchased {total_quantity}\n",
    "        Total purchased amount: {total}\n",
    "        Discount amt: {discount}\n",
    "        Amount payable: {total-discount}\n",
    "        ''')\n",
    "    print(\"\\t\\tThanks For Shopping\")\n",
    "\n"
   ]
  },
  {
   "cell_type": "code",
   "execution_count": 2,
   "metadata": {},
   "outputs": [],
   "source": [
    "import pandas as pd \n",
    "\n",
    "tech_shop =pd.DataFrame( {'products' : ['handfree','charger','data_cable','powerbank','usb','air_buds',\n",
    "                           'mobile_cover','protecter','mouse','ketboard','monitor','mouse_pad',\n",
    "                           'cooler','smart_watch','smart_box'],\n",
    "            'price' :  [300,500,200,5000,1000,3000,500,200,300,1000,5000,150,200,5000,5000],\n",
    "            'quantity' : [100,100,150,50,100,50,300,500,150,100,50,200,100,100,50]\n",
    "            })"
   ]
  },
  {
   "cell_type": "code",
   "execution_count": 3,
   "metadata": {},
   "outputs": [
    {
     "name": "stdout",
     "output_type": "stream",
     "text": [
      "Avalile Items List Of Store\n",
      "              products  price  quantity\n",
      "0       handfree    300       100\n",
      "1        charger    500       100\n",
      "2     data_cable    200       150\n",
      "3      powerbank   5000        50\n",
      "4            usb   1000       100\n",
      "5       air_buds   3000        50\n",
      "6   mobile_cover    500       300\n",
      "7      protecter    200       500\n",
      "8          mouse    300       150\n",
      "9       ketboard   1000       100\n",
      "10       monitor   5000        50\n",
      "11     mouse_pad    150       200\n",
      "12        cooler    200       100\n",
      "13   smart_watch   5000       100\n",
      "14     smart_box   5000        50\n",
      "      \n"
     ]
    },
    {
     "name": "stdin",
     "output_type": "stream",
     "text": [
      "Enter product name :  mouse\n"
     ]
    },
    {
     "name": "stdout",
     "output_type": "stream",
     "text": [
      "mouse is of RS 300\n"
     ]
    },
    {
     "name": "stdin",
     "output_type": "stream",
     "text": [
      "How much do you want :  5\n",
      "Do you need anything more (y/n):  y\n",
      "Enter product name :  powerbank\n"
     ]
    },
    {
     "name": "stdout",
     "output_type": "stream",
     "text": [
      "powerbank is of RS 5000\n"
     ]
    },
    {
     "name": "stdin",
     "output_type": "stream",
     "text": [
      "How much do you want :  2\n",
      "Do you need anything more (y/n):  y\n",
      "Enter product name :  moniter\n"
     ]
    },
    {
     "name": "stdout",
     "output_type": "stream",
     "text": [
      "Sorry It isn't Avalible\n"
     ]
    },
    {
     "name": "stdin",
     "output_type": "stream",
     "text": [
      "Enter product name :  monitor\n"
     ]
    },
    {
     "name": "stdout",
     "output_type": "stream",
     "text": [
      "monitor is of RS 5000\n"
     ]
    },
    {
     "name": "stdin",
     "output_type": "stream",
     "text": [
      "How much do you want :  8\n",
      "Do you need anything more (y/n):  y\n",
      "Enter product name :  cooler\n"
     ]
    },
    {
     "name": "stdout",
     "output_type": "stream",
     "text": [
      "cooler is of RS 200\n"
     ]
    },
    {
     "name": "stdin",
     "output_type": "stream",
     "text": [
      "How much do you want :  10\n",
      "Do you need anything more (y/n):  n\n"
     ]
    },
    {
     "name": "stdout",
     "output_type": "stream",
     "text": [
      "\n",
      "The total amount of 25 products is 53500\n",
      "\n",
      "\t--- Purchased Items Recipt ---\n",
      "     Product  Quantity  Price  Total Price\n",
      "0      mouse         5    300         1500\n",
      "1  powerbank         2   5000        10000\n",
      "2    monitor         8   5000        40000\n",
      "3     cooler        10    200         2000\n",
      "\n",
      "        ------Shopping Summery------\n",
      "        Total Item purchased 4\n",
      "        Total Quantity purchased 25\n",
      "        Total purchased amount: 53500\n",
      "        Discount amt: 1070.0\n",
      "        Amount payable: 52430.0\n",
      "        \n",
      "\t\tThanks For Shopping\n"
     ]
    }
   ],
   "source": [
    "shop(tech_shop)"
   ]
  },
  {
   "cell_type": "code",
   "execution_count": null,
   "metadata": {},
   "outputs": [],
   "source": []
  }
 ],
 "metadata": {
  "kernelspec": {
   "display_name": "Python 3 (ipykernel)",
   "language": "python",
   "name": "python3"
  },
  "language_info": {
   "codemirror_mode": {
    "name": "ipython",
    "version": 3
   },
   "file_extension": ".py",
   "mimetype": "text/x-python",
   "name": "python",
   "nbconvert_exporter": "python",
   "pygments_lexer": "ipython3",
   "version": "3.13.2"
  }
 },
 "nbformat": 4,
 "nbformat_minor": 4
}
